{
 "cells": [
  {
   "cell_type": "code",
   "execution_count": 2,
   "id": "1f64220b",
   "metadata": {},
   "outputs": [],
   "source": [
    "import pandas as pd\n",
    "import matplotlib.pyplot as plt\n",
    "import seaborn as sns\n",
    "from scipy import stats\n",
    "import statsmodels.api as sm\n",
    "import warnings\n",
    "warnings.filterwarnings('ignore')"
   ]
  },
  {
   "cell_type": "code",
   "execution_count": 3,
   "id": "e08669ab",
   "metadata": {},
   "outputs": [],
   "source": [
    "#Loading the data\n",
    "nyc_taxitrips_data = pd.read_csv(\"/Users/prudhvileo/Downloads/Taxidataset.csv\")"
   ]
  },
  {
   "cell_type": "code",
   "execution_count": 4,
   "id": "179299cb",
   "metadata": {},
   "outputs": [
    {
     "data": {
      "text/html": [
       "<div>\n",
       "<style scoped>\n",
       "    .dataframe tbody tr th:only-of-type {\n",
       "        vertical-align: middle;\n",
       "    }\n",
       "\n",
       "    .dataframe tbody tr th {\n",
       "        vertical-align: top;\n",
       "    }\n",
       "\n",
       "    .dataframe thead th {\n",
       "        text-align: right;\n",
       "    }\n",
       "</style>\n",
       "<table border=\"1\" class=\"dataframe\">\n",
       "  <thead>\n",
       "    <tr style=\"text-align: right;\">\n",
       "      <th></th>\n",
       "      <th>VendorID</th>\n",
       "      <th>tpep_pickup_datetime</th>\n",
       "      <th>tpep_dropoff_datetime</th>\n",
       "      <th>passenger_count</th>\n",
       "      <th>trip_distance</th>\n",
       "      <th>RatecodeID</th>\n",
       "      <th>store_and_fwd_flag</th>\n",
       "      <th>PULocationID</th>\n",
       "      <th>DOLocationID</th>\n",
       "      <th>payment_type</th>\n",
       "      <th>fare_amount</th>\n",
       "      <th>extra</th>\n",
       "      <th>mta_tax</th>\n",
       "      <th>tip_amount</th>\n",
       "      <th>tolls_amount</th>\n",
       "      <th>improvement_surcharge</th>\n",
       "      <th>total_amount</th>\n",
       "      <th>congestion_surcharge</th>\n",
       "    </tr>\n",
       "  </thead>\n",
       "  <tbody>\n",
       "    <tr>\n",
       "      <th>0</th>\n",
       "      <td>1.0</td>\n",
       "      <td>01/01/2020 12:28:15 AM</td>\n",
       "      <td>01/01/2020 12:33:03 AM</td>\n",
       "      <td>1.0</td>\n",
       "      <td>1.2</td>\n",
       "      <td>1.0</td>\n",
       "      <td>N</td>\n",
       "      <td>238.0</td>\n",
       "      <td>239.0</td>\n",
       "      <td>1.0</td>\n",
       "      <td>6.0</td>\n",
       "      <td>3.0</td>\n",
       "      <td>0.5</td>\n",
       "      <td>1.47</td>\n",
       "      <td>0.0</td>\n",
       "      <td>0.3</td>\n",
       "      <td>11.27</td>\n",
       "      <td>2.5</td>\n",
       "    </tr>\n",
       "    <tr>\n",
       "      <th>1</th>\n",
       "      <td>1.0</td>\n",
       "      <td>01/01/2020 12:35:39 AM</td>\n",
       "      <td>01/01/2020 12:43:04 AM</td>\n",
       "      <td>1.0</td>\n",
       "      <td>1.2</td>\n",
       "      <td>1.0</td>\n",
       "      <td>N</td>\n",
       "      <td>239.0</td>\n",
       "      <td>238.0</td>\n",
       "      <td>1.0</td>\n",
       "      <td>7.0</td>\n",
       "      <td>3.0</td>\n",
       "      <td>0.5</td>\n",
       "      <td>1.50</td>\n",
       "      <td>0.0</td>\n",
       "      <td>0.3</td>\n",
       "      <td>12.30</td>\n",
       "      <td>2.5</td>\n",
       "    </tr>\n",
       "    <tr>\n",
       "      <th>2</th>\n",
       "      <td>1.0</td>\n",
       "      <td>01/01/2020 12:47:41 AM</td>\n",
       "      <td>01/01/2020 12:53:52 AM</td>\n",
       "      <td>1.0</td>\n",
       "      <td>0.6</td>\n",
       "      <td>1.0</td>\n",
       "      <td>N</td>\n",
       "      <td>238.0</td>\n",
       "      <td>238.0</td>\n",
       "      <td>1.0</td>\n",
       "      <td>6.0</td>\n",
       "      <td>3.0</td>\n",
       "      <td>0.5</td>\n",
       "      <td>1.00</td>\n",
       "      <td>0.0</td>\n",
       "      <td>0.3</td>\n",
       "      <td>10.80</td>\n",
       "      <td>2.5</td>\n",
       "    </tr>\n",
       "    <tr>\n",
       "      <th>3</th>\n",
       "      <td>1.0</td>\n",
       "      <td>01/01/2020 12:55:23 AM</td>\n",
       "      <td>01/01/2020 01:00:14 AM</td>\n",
       "      <td>1.0</td>\n",
       "      <td>0.8</td>\n",
       "      <td>1.0</td>\n",
       "      <td>N</td>\n",
       "      <td>238.0</td>\n",
       "      <td>151.0</td>\n",
       "      <td>1.0</td>\n",
       "      <td>5.5</td>\n",
       "      <td>0.5</td>\n",
       "      <td>0.5</td>\n",
       "      <td>1.36</td>\n",
       "      <td>0.0</td>\n",
       "      <td>0.3</td>\n",
       "      <td>8.16</td>\n",
       "      <td>0.0</td>\n",
       "    </tr>\n",
       "    <tr>\n",
       "      <th>4</th>\n",
       "      <td>2.0</td>\n",
       "      <td>01/01/2020 12:01:58 AM</td>\n",
       "      <td>01/01/2020 12:04:16 AM</td>\n",
       "      <td>1.0</td>\n",
       "      <td>0.0</td>\n",
       "      <td>1.0</td>\n",
       "      <td>N</td>\n",
       "      <td>193.0</td>\n",
       "      <td>193.0</td>\n",
       "      <td>2.0</td>\n",
       "      <td>3.5</td>\n",
       "      <td>0.5</td>\n",
       "      <td>0.5</td>\n",
       "      <td>0.00</td>\n",
       "      <td>0.0</td>\n",
       "      <td>0.3</td>\n",
       "      <td>4.80</td>\n",
       "      <td>0.0</td>\n",
       "    </tr>\n",
       "  </tbody>\n",
       "</table>\n",
       "</div>"
      ],
      "text/plain": [
       "  VendorID    tpep_pickup_datetime   tpep_dropoff_datetime  passenger_count  \\\n",
       "0      1.0  01/01/2020 12:28:15 AM  01/01/2020 12:33:03 AM              1.0   \n",
       "1      1.0  01/01/2020 12:35:39 AM  01/01/2020 12:43:04 AM              1.0   \n",
       "2      1.0  01/01/2020 12:47:41 AM  01/01/2020 12:53:52 AM              1.0   \n",
       "3      1.0  01/01/2020 12:55:23 AM  01/01/2020 01:00:14 AM              1.0   \n",
       "4      2.0  01/01/2020 12:01:58 AM  01/01/2020 12:04:16 AM              1.0   \n",
       "\n",
       "   trip_distance  RatecodeID store_and_fwd_flag  PULocationID  DOLocationID  \\\n",
       "0            1.2         1.0                  N         238.0         239.0   \n",
       "1            1.2         1.0                  N         239.0         238.0   \n",
       "2            0.6         1.0                  N         238.0         238.0   \n",
       "3            0.8         1.0                  N         238.0         151.0   \n",
       "4            0.0         1.0                  N         193.0         193.0   \n",
       "\n",
       "   payment_type  fare_amount  extra  mta_tax  tip_amount  tolls_amount  \\\n",
       "0           1.0          6.0    3.0      0.5        1.47           0.0   \n",
       "1           1.0          7.0    3.0      0.5        1.50           0.0   \n",
       "2           1.0          6.0    3.0      0.5        1.00           0.0   \n",
       "3           1.0          5.5    0.5      0.5        1.36           0.0   \n",
       "4           2.0          3.5    0.5      0.5        0.00           0.0   \n",
       "\n",
       "   improvement_surcharge  total_amount  congestion_surcharge  \n",
       "0                    0.3         11.27                   2.5  \n",
       "1                    0.3         12.30                   2.5  \n",
       "2                    0.3         10.80                   2.5  \n",
       "3                    0.3          8.16                   0.0  \n",
       "4                    0.3          4.80                   0.0  "
      ]
     },
     "execution_count": 4,
     "metadata": {},
     "output_type": "execute_result"
    }
   ],
   "source": [
    "nyc_taxitrips_data.head()"
   ]
  },
  {
   "cell_type": "code",
   "execution_count": 5,
   "id": "f96748f7",
   "metadata": {},
   "outputs": [
    {
     "data": {
      "text/html": [
       "<div>\n",
       "<style scoped>\n",
       "    .dataframe tbody tr th:only-of-type {\n",
       "        vertical-align: middle;\n",
       "    }\n",
       "\n",
       "    .dataframe tbody tr th {\n",
       "        vertical-align: top;\n",
       "    }\n",
       "\n",
       "    .dataframe thead th {\n",
       "        text-align: right;\n",
       "    }\n",
       "</style>\n",
       "<table border=\"1\" class=\"dataframe\">\n",
       "  <thead>\n",
       "    <tr style=\"text-align: right;\">\n",
       "      <th></th>\n",
       "      <th>VendorID</th>\n",
       "      <th>tpep_pickup_datetime</th>\n",
       "      <th>tpep_dropoff_datetime</th>\n",
       "      <th>passenger_count</th>\n",
       "      <th>trip_distance</th>\n",
       "      <th>RatecodeID</th>\n",
       "      <th>store_and_fwd_flag</th>\n",
       "      <th>PULocationID</th>\n",
       "      <th>DOLocationID</th>\n",
       "      <th>payment_type</th>\n",
       "      <th>fare_amount</th>\n",
       "      <th>extra</th>\n",
       "      <th>mta_tax</th>\n",
       "      <th>tip_amount</th>\n",
       "      <th>tolls_amount</th>\n",
       "      <th>improvement_surcharge</th>\n",
       "      <th>total_amount</th>\n",
       "      <th>congestion_surcharge</th>\n",
       "    </tr>\n",
       "  </thead>\n",
       "  <tbody>\n",
       "    <tr>\n",
       "      <th>11916662</th>\n",
       "      <td>2{</td>\n",
       "      <td>NaN</td>\n",
       "      <td>NaN</td>\n",
       "      <td>NaN</td>\n",
       "      <td>NaN</td>\n",
       "      <td>NaN</td>\n",
       "      <td>NaN</td>\n",
       "      <td>NaN</td>\n",
       "      <td>NaN</td>\n",
       "      <td>NaN</td>\n",
       "      <td>NaN</td>\n",
       "      <td>NaN</td>\n",
       "      <td>NaN</td>\n",
       "      <td>NaN</td>\n",
       "      <td>NaN</td>\n",
       "      <td>NaN</td>\n",
       "      <td>NaN</td>\n",
       "      <td>NaN</td>\n",
       "    </tr>\n",
       "    <tr>\n",
       "      <th>11916663</th>\n",
       "      <td>\"error\" : true</td>\n",
       "      <td>NaN</td>\n",
       "      <td>NaN</td>\n",
       "      <td>NaN</td>\n",
       "      <td>NaN</td>\n",
       "      <td>NaN</td>\n",
       "      <td>NaN</td>\n",
       "      <td>NaN</td>\n",
       "      <td>NaN</td>\n",
       "      <td>NaN</td>\n",
       "      <td>NaN</td>\n",
       "      <td>NaN</td>\n",
       "      <td>NaN</td>\n",
       "      <td>NaN</td>\n",
       "      <td>NaN</td>\n",
       "      <td>NaN</td>\n",
       "      <td>NaN</td>\n",
       "      <td>NaN</td>\n",
       "    </tr>\n",
       "    <tr>\n",
       "      <th>11916664</th>\n",
       "      <td>\"message\" : \"Internal error\"</td>\n",
       "      <td>NaN</td>\n",
       "      <td>NaN</td>\n",
       "      <td>NaN</td>\n",
       "      <td>NaN</td>\n",
       "      <td>NaN</td>\n",
       "      <td>NaN</td>\n",
       "      <td>NaN</td>\n",
       "      <td>NaN</td>\n",
       "      <td>NaN</td>\n",
       "      <td>NaN</td>\n",
       "      <td>NaN</td>\n",
       "      <td>NaN</td>\n",
       "      <td>NaN</td>\n",
       "      <td>NaN</td>\n",
       "      <td>NaN</td>\n",
       "      <td>NaN</td>\n",
       "      <td>NaN</td>\n",
       "    </tr>\n",
       "    <tr>\n",
       "      <th>11916665</th>\n",
       "      <td>\"status\" : 500</td>\n",
       "      <td>NaN</td>\n",
       "      <td>NaN</td>\n",
       "      <td>NaN</td>\n",
       "      <td>NaN</td>\n",
       "      <td>NaN</td>\n",
       "      <td>NaN</td>\n",
       "      <td>NaN</td>\n",
       "      <td>NaN</td>\n",
       "      <td>NaN</td>\n",
       "      <td>NaN</td>\n",
       "      <td>NaN</td>\n",
       "      <td>NaN</td>\n",
       "      <td>NaN</td>\n",
       "      <td>NaN</td>\n",
       "      <td>NaN</td>\n",
       "      <td>NaN</td>\n",
       "      <td>NaN</td>\n",
       "    </tr>\n",
       "    <tr>\n",
       "      <th>11916666</th>\n",
       "      <td>}</td>\n",
       "      <td>NaN</td>\n",
       "      <td>NaN</td>\n",
       "      <td>NaN</td>\n",
       "      <td>NaN</td>\n",
       "      <td>NaN</td>\n",
       "      <td>NaN</td>\n",
       "      <td>NaN</td>\n",
       "      <td>NaN</td>\n",
       "      <td>NaN</td>\n",
       "      <td>NaN</td>\n",
       "      <td>NaN</td>\n",
       "      <td>NaN</td>\n",
       "      <td>NaN</td>\n",
       "      <td>NaN</td>\n",
       "      <td>NaN</td>\n",
       "      <td>NaN</td>\n",
       "      <td>NaN</td>\n",
       "    </tr>\n",
       "  </tbody>\n",
       "</table>\n",
       "</div>"
      ],
      "text/plain": [
       "                                VendorID tpep_pickup_datetime  \\\n",
       "11916662                              2{                  NaN   \n",
       "11916663                  \"error\" : true                  NaN   \n",
       "11916664    \"message\" : \"Internal error\"                  NaN   \n",
       "11916665                  \"status\" : 500                  NaN   \n",
       "11916666                               }                  NaN   \n",
       "\n",
       "         tpep_dropoff_datetime  passenger_count  trip_distance  RatecodeID  \\\n",
       "11916662                   NaN              NaN            NaN         NaN   \n",
       "11916663                   NaN              NaN            NaN         NaN   \n",
       "11916664                   NaN              NaN            NaN         NaN   \n",
       "11916665                   NaN              NaN            NaN         NaN   \n",
       "11916666                   NaN              NaN            NaN         NaN   \n",
       "\n",
       "         store_and_fwd_flag  PULocationID  DOLocationID  payment_type  \\\n",
       "11916662                NaN           NaN           NaN           NaN   \n",
       "11916663                NaN           NaN           NaN           NaN   \n",
       "11916664                NaN           NaN           NaN           NaN   \n",
       "11916665                NaN           NaN           NaN           NaN   \n",
       "11916666                NaN           NaN           NaN           NaN   \n",
       "\n",
       "          fare_amount  extra  mta_tax  tip_amount  tolls_amount  \\\n",
       "11916662          NaN    NaN      NaN         NaN           NaN   \n",
       "11916663          NaN    NaN      NaN         NaN           NaN   \n",
       "11916664          NaN    NaN      NaN         NaN           NaN   \n",
       "11916665          NaN    NaN      NaN         NaN           NaN   \n",
       "11916666          NaN    NaN      NaN         NaN           NaN   \n",
       "\n",
       "          improvement_surcharge  total_amount  congestion_surcharge  \n",
       "11916662                    NaN           NaN                   NaN  \n",
       "11916663                    NaN           NaN                   NaN  \n",
       "11916664                    NaN           NaN                   NaN  \n",
       "11916665                    NaN           NaN                   NaN  \n",
       "11916666                    NaN           NaN                   NaN  "
      ]
     },
     "execution_count": 5,
     "metadata": {},
     "output_type": "execute_result"
    }
   ],
   "source": [
    "nyc_taxitrips_data.tail()"
   ]
  },
  {
   "cell_type": "markdown",
   "id": "766de51d",
   "metadata": {},
   "source": [
    "## Exploratory Data Analysis"
   ]
  },
  {
   "cell_type": "code",
   "execution_count": 6,
   "id": "2557cf24",
   "metadata": {},
   "outputs": [
    {
     "data": {
      "text/plain": [
       "(11916667, 18)"
      ]
     },
     "execution_count": 6,
     "metadata": {},
     "output_type": "execute_result"
    }
   ],
   "source": [
    "nyc_taxitrips_data.shape"
   ]
  },
  {
   "cell_type": "code",
   "execution_count": 7,
   "id": "8edc75a9",
   "metadata": {},
   "outputs": [],
   "source": [
    "#Calculating duration from the pickup and dropoff datetime in minutes\n",
    "\n",
    "#Converting pickup and dropoff to datetime\n",
    "nyc_taxitrips_data['tpep_pickup_datetime'] = pd.to_datetime(nyc_taxitrips_data['tpep_pickup_datetime'])\n",
    "nyc_taxitrips_data['tpep_dropoff_datetime'] = pd.to_datetime(nyc_taxitrips_data['tpep_dropoff_datetime'])\n",
    "\n",
    "# Duration\n",
    "nyc_taxitrips_data['duration'] = nyc_taxitrips_data['tpep_dropoff_datetime'] - nyc_taxitrips_data['tpep_pickup_datetime']\n",
    "\n",
    "#Converting time into minutes\n",
    "nyc_taxitrips_data['duration'] = nyc_taxitrips_data['duration'].dt.total_seconds()/60"
   ]
  },
  {
   "cell_type": "code",
   "execution_count": 8,
   "id": "fa9f7686",
   "metadata": {},
   "outputs": [
    {
     "data": {
      "text/plain": [
       "VendorID                         object\n",
       "tpep_pickup_datetime     datetime64[ns]\n",
       "tpep_dropoff_datetime    datetime64[ns]\n",
       "passenger_count                 float64\n",
       "trip_distance                   float64\n",
       "RatecodeID                      float64\n",
       "store_and_fwd_flag               object\n",
       "PULocationID                    float64\n",
       "DOLocationID                    float64\n",
       "payment_type                    float64\n",
       "fare_amount                     float64\n",
       "extra                           float64\n",
       "mta_tax                         float64\n",
       "tip_amount                      float64\n",
       "tolls_amount                    float64\n",
       "improvement_surcharge           float64\n",
       "total_amount                    float64\n",
       "congestion_surcharge            float64\n",
       "duration                        float64\n",
       "dtype: object"
      ]
     },
     "execution_count": 8,
     "metadata": {},
     "output_type": "execute_result"
    }
   ],
   "source": [
    "nyc_taxitrips_data.dtypes"
   ]
  },
  {
   "cell_type": "code",
   "execution_count": 9,
   "id": "e36640c1",
   "metadata": {},
   "outputs": [],
   "source": [
    "#Removing unwanted columns\n",
    "nyc_taxitrips_data.drop(['VendorID', 'tpep_pickup_datetime', 'tpep_dropoff_datetime', 'RatecodeID', 'store_and_fwd_flag', 'PULocationID', 'DOLocationID', 'extra', 'mta_tax', 'tip_amount',\n",
    "                    'tolls_amount', 'improvement_surcharge', 'total_amount', 'congestion_surcharge'], axis=1, inplace= True)"
   ]
  },
  {
   "cell_type": "code",
   "execution_count": 10,
   "id": "9ac88b0d",
   "metadata": {},
   "outputs": [
    {
     "data": {
      "text/html": [
       "<div>\n",
       "<style scoped>\n",
       "    .dataframe tbody tr th:only-of-type {\n",
       "        vertical-align: middle;\n",
       "    }\n",
       "\n",
       "    .dataframe tbody tr th {\n",
       "        vertical-align: top;\n",
       "    }\n",
       "\n",
       "    .dataframe thead th {\n",
       "        text-align: right;\n",
       "    }\n",
       "</style>\n",
       "<table border=\"1\" class=\"dataframe\">\n",
       "  <thead>\n",
       "    <tr style=\"text-align: right;\">\n",
       "      <th></th>\n",
       "      <th>passenger_count</th>\n",
       "      <th>trip_distance</th>\n",
       "      <th>payment_type</th>\n",
       "      <th>fare_amount</th>\n",
       "      <th>duration</th>\n",
       "    </tr>\n",
       "  </thead>\n",
       "  <tbody>\n",
       "    <tr>\n",
       "      <th>0</th>\n",
       "      <td>1.0</td>\n",
       "      <td>1.2</td>\n",
       "      <td>1.0</td>\n",
       "      <td>6.0</td>\n",
       "      <td>4.800000</td>\n",
       "    </tr>\n",
       "    <tr>\n",
       "      <th>1</th>\n",
       "      <td>1.0</td>\n",
       "      <td>1.2</td>\n",
       "      <td>1.0</td>\n",
       "      <td>7.0</td>\n",
       "      <td>7.416667</td>\n",
       "    </tr>\n",
       "    <tr>\n",
       "      <th>2</th>\n",
       "      <td>1.0</td>\n",
       "      <td>0.6</td>\n",
       "      <td>1.0</td>\n",
       "      <td>6.0</td>\n",
       "      <td>6.183333</td>\n",
       "    </tr>\n",
       "    <tr>\n",
       "      <th>3</th>\n",
       "      <td>1.0</td>\n",
       "      <td>0.8</td>\n",
       "      <td>1.0</td>\n",
       "      <td>5.5</td>\n",
       "      <td>4.850000</td>\n",
       "    </tr>\n",
       "    <tr>\n",
       "      <th>4</th>\n",
       "      <td>1.0</td>\n",
       "      <td>0.0</td>\n",
       "      <td>2.0</td>\n",
       "      <td>3.5</td>\n",
       "      <td>2.300000</td>\n",
       "    </tr>\n",
       "  </tbody>\n",
       "</table>\n",
       "</div>"
      ],
      "text/plain": [
       "   passenger_count  trip_distance  payment_type  fare_amount  duration\n",
       "0              1.0            1.2           1.0          6.0  4.800000\n",
       "1              1.0            1.2           1.0          7.0  7.416667\n",
       "2              1.0            0.6           1.0          6.0  6.183333\n",
       "3              1.0            0.8           1.0          5.5  4.850000\n",
       "4              1.0            0.0           2.0          3.5  2.300000"
      ]
     },
     "execution_count": 10,
     "metadata": {},
     "output_type": "execute_result"
    }
   ],
   "source": [
    "nyc_taxitrips_data.head()"
   ]
  },
  {
   "cell_type": "code",
   "execution_count": 11,
   "id": "79c94d9c",
   "metadata": {},
   "outputs": [
    {
     "data": {
      "text/plain": [
       "(11916667, 5)"
      ]
     },
     "execution_count": 11,
     "metadata": {},
     "output_type": "execute_result"
    }
   ],
   "source": [
    "nyc_taxitrips_data.shape"
   ]
  },
  {
   "cell_type": "code",
   "execution_count": 12,
   "id": "fe5abda1",
   "metadata": {},
   "outputs": [
    {
     "data": {
      "text/plain": [
       "passenger_count    91453\n",
       "trip_distance          5\n",
       "payment_type       91453\n",
       "fare_amount            5\n",
       "duration               5\n",
       "dtype: int64"
      ]
     },
     "execution_count": 12,
     "metadata": {},
     "output_type": "execute_result"
    }
   ],
   "source": [
    "nyc_taxitrips_data.isnull().sum() #checking missing values"
   ]
  },
  {
   "cell_type": "code",
   "execution_count": 13,
   "id": "bb14634f",
   "metadata": {},
   "outputs": [
    {
     "name": "stdout",
     "output_type": "stream",
     "text": [
      "Missing data % 0.77\n"
     ]
    }
   ],
   "source": [
    "# Percentage of missing data to the total record of the data\n",
    "print('Missing data %', round(91453/nyc_taxitrips_data.shape[0]*100, 2))"
   ]
  },
  {
   "cell_type": "code",
   "execution_count": 14,
   "id": "f1e617f5",
   "metadata": {},
   "outputs": [],
   "source": [
    "# As the missing value percent is less than 1 %, we can drop the missing values\n",
    "nyc_taxitrips_data.dropna(inplace=True)"
   ]
  },
  {
   "cell_type": "code",
   "execution_count": 15,
   "id": "e8e40f02",
   "metadata": {},
   "outputs": [
    {
     "data": {
      "text/plain": [
       "(11825214, 5)"
      ]
     },
     "execution_count": 15,
     "metadata": {},
     "output_type": "execute_result"
    }
   ],
   "source": [
    "nyc_taxitrips_data.shape"
   ]
  },
  {
   "cell_type": "code",
   "execution_count": 16,
   "id": "501e23b0",
   "metadata": {},
   "outputs": [
    {
     "name": "stdout",
     "output_type": "stream",
     "text": [
      "passenger_count    0\n",
      "trip_distance      0\n",
      "payment_type       0\n",
      "fare_amount        0\n",
      "duration           0\n",
      "dtype: int64\n"
     ]
    }
   ],
   "source": [
    "print(nyc_taxitrips_data.isnull().sum())"
   ]
  },
  {
   "cell_type": "code",
   "execution_count": 17,
   "id": "cd508d41",
   "metadata": {},
   "outputs": [
    {
     "data": {
      "text/plain": [
       "passenger_count    float64\n",
       "trip_distance      float64\n",
       "payment_type       float64\n",
       "fare_amount        float64\n",
       "duration           float64\n",
       "dtype: object"
      ]
     },
     "execution_count": 17,
     "metadata": {},
     "output_type": "execute_result"
    }
   ],
   "source": [
    "nyc_taxitrips_data.dtypes"
   ]
  },
  {
   "cell_type": "code",
   "execution_count": 18,
   "id": "6de4f3a7",
   "metadata": {},
   "outputs": [],
   "source": [
    "# Change the passenger count and payment type to integer as they are present in float\n",
    "nyc_taxitrips_data['passenger_count'] = nyc_taxitrips_data['passenger_count'].astype('int64')\n",
    "nyc_taxitrips_data['payment_type'] = nyc_taxitrips_data['payment_type'].astype('int64')"
   ]
  },
  {
   "cell_type": "code",
   "execution_count": 19,
   "id": "ed9539db",
   "metadata": {},
   "outputs": [
    {
     "data": {
      "text/html": [
       "<div>\n",
       "<style scoped>\n",
       "    .dataframe tbody tr th:only-of-type {\n",
       "        vertical-align: middle;\n",
       "    }\n",
       "\n",
       "    .dataframe tbody tr th {\n",
       "        vertical-align: top;\n",
       "    }\n",
       "\n",
       "    .dataframe thead th {\n",
       "        text-align: right;\n",
       "    }\n",
       "</style>\n",
       "<table border=\"1\" class=\"dataframe\">\n",
       "  <thead>\n",
       "    <tr style=\"text-align: right;\">\n",
       "      <th></th>\n",
       "      <th>passenger_count</th>\n",
       "      <th>trip_distance</th>\n",
       "      <th>payment_type</th>\n",
       "      <th>fare_amount</th>\n",
       "      <th>duration</th>\n",
       "    </tr>\n",
       "  </thead>\n",
       "  <tbody>\n",
       "    <tr>\n",
       "      <th>2064</th>\n",
       "      <td>1</td>\n",
       "      <td>0.00</td>\n",
       "      <td>2</td>\n",
       "      <td>7.0</td>\n",
       "      <td>0.000000</td>\n",
       "    </tr>\n",
       "    <tr>\n",
       "      <th>2451</th>\n",
       "      <td>1</td>\n",
       "      <td>0.00</td>\n",
       "      <td>1</td>\n",
       "      <td>52.0</td>\n",
       "      <td>0.200000</td>\n",
       "    </tr>\n",
       "    <tr>\n",
       "      <th>2456</th>\n",
       "      <td>2</td>\n",
       "      <td>1.70</td>\n",
       "      <td>1</td>\n",
       "      <td>9.5</td>\n",
       "      <td>13.066667</td>\n",
       "    </tr>\n",
       "    <tr>\n",
       "      <th>2476</th>\n",
       "      <td>1</td>\n",
       "      <td>0.40</td>\n",
       "      <td>1</td>\n",
       "      <td>4.0</td>\n",
       "      <td>3.083333</td>\n",
       "    </tr>\n",
       "    <tr>\n",
       "      <th>3358</th>\n",
       "      <td>1</td>\n",
       "      <td>1.20</td>\n",
       "      <td>1</td>\n",
       "      <td>6.0</td>\n",
       "      <td>5.350000</td>\n",
       "    </tr>\n",
       "    <tr>\n",
       "      <th>...</th>\n",
       "      <td>...</td>\n",
       "      <td>...</td>\n",
       "      <td>...</td>\n",
       "      <td>...</td>\n",
       "      <td>...</td>\n",
       "    </tr>\n",
       "    <tr>\n",
       "      <th>11916654</th>\n",
       "      <td>1</td>\n",
       "      <td>2.20</td>\n",
       "      <td>1</td>\n",
       "      <td>9.5</td>\n",
       "      <td>9.316667</td>\n",
       "    </tr>\n",
       "    <tr>\n",
       "      <th>11916655</th>\n",
       "      <td>1</td>\n",
       "      <td>1.92</td>\n",
       "      <td>2</td>\n",
       "      <td>8.0</td>\n",
       "      <td>7.050000</td>\n",
       "    </tr>\n",
       "    <tr>\n",
       "      <th>11916657</th>\n",
       "      <td>1</td>\n",
       "      <td>1.27</td>\n",
       "      <td>1</td>\n",
       "      <td>7.0</td>\n",
       "      <td>7.216667</td>\n",
       "    </tr>\n",
       "    <tr>\n",
       "      <th>11916659</th>\n",
       "      <td>1</td>\n",
       "      <td>2.06</td>\n",
       "      <td>1</td>\n",
       "      <td>9.5</td>\n",
       "      <td>10.716667</td>\n",
       "    </tr>\n",
       "    <tr>\n",
       "      <th>11916660</th>\n",
       "      <td>1</td>\n",
       "      <td>3.70</td>\n",
       "      <td>1</td>\n",
       "      <td>12.5</td>\n",
       "      <td>11.333333</td>\n",
       "    </tr>\n",
       "  </tbody>\n",
       "</table>\n",
       "<p>7052703 rows × 5 columns</p>\n",
       "</div>"
      ],
      "text/plain": [
       "          passenger_count  trip_distance  payment_type  fare_amount   duration\n",
       "2064                    1           0.00             2          7.0   0.000000\n",
       "2451                    1           0.00             1         52.0   0.200000\n",
       "2456                    2           1.70             1          9.5  13.066667\n",
       "2476                    1           0.40             1          4.0   3.083333\n",
       "3358                    1           1.20             1          6.0   5.350000\n",
       "...                   ...            ...           ...          ...        ...\n",
       "11916654                1           2.20             1          9.5   9.316667\n",
       "11916655                1           1.92             2          8.0   7.050000\n",
       "11916657                1           1.27             1          7.0   7.216667\n",
       "11916659                1           2.06             1          9.5  10.716667\n",
       "11916660                1           3.70             1         12.5  11.333333\n",
       "\n",
       "[7052703 rows x 5 columns]"
      ]
     },
     "execution_count": 19,
     "metadata": {},
     "output_type": "execute_result"
    }
   ],
   "source": [
    "# Check for duplicates in the dataset\n",
    "nyc_taxitrips_data[nyc_taxitrips_data.duplicated()]"
   ]
  },
  {
   "cell_type": "code",
   "execution_count": 20,
   "id": "c7d219ee",
   "metadata": {},
   "outputs": [],
   "source": [
    "# Removing duplicate rows which cannot be used in analysis\n",
    "nyc_taxitrips_data.drop_duplicates(inplace=True)"
   ]
  },
  {
   "cell_type": "code",
   "execution_count": 21,
   "id": "f100f50c",
   "metadata": {},
   "outputs": [
    {
     "data": {
      "text/plain": [
       "(4772511, 5)"
      ]
     },
     "execution_count": 21,
     "metadata": {},
     "output_type": "execute_result"
    }
   ],
   "source": [
    "# Number of rows left after dropping duplicates\n",
    "nyc_taxitrips_data.shape"
   ]
  },
  {
   "cell_type": "code",
   "execution_count": 22,
   "id": "1d7226ee",
   "metadata": {},
   "outputs": [
    {
     "data": {
      "text/html": [
       "<div>\n",
       "<style scoped>\n",
       "    .dataframe tbody tr th:only-of-type {\n",
       "        vertical-align: middle;\n",
       "    }\n",
       "\n",
       "    .dataframe tbody tr th {\n",
       "        vertical-align: top;\n",
       "    }\n",
       "\n",
       "    .dataframe thead th {\n",
       "        text-align: right;\n",
       "    }\n",
       "</style>\n",
       "<table border=\"1\" class=\"dataframe\">\n",
       "  <thead>\n",
       "    <tr style=\"text-align: right;\">\n",
       "      <th></th>\n",
       "      <th>passenger_count</th>\n",
       "      <th>trip_distance</th>\n",
       "      <th>payment_type</th>\n",
       "      <th>fare_amount</th>\n",
       "      <th>duration</th>\n",
       "    </tr>\n",
       "  </thead>\n",
       "  <tbody>\n",
       "    <tr>\n",
       "      <th>0</th>\n",
       "      <td>1</td>\n",
       "      <td>1.2</td>\n",
       "      <td>1</td>\n",
       "      <td>6.0</td>\n",
       "      <td>4.800000</td>\n",
       "    </tr>\n",
       "    <tr>\n",
       "      <th>1</th>\n",
       "      <td>1</td>\n",
       "      <td>1.2</td>\n",
       "      <td>1</td>\n",
       "      <td>7.0</td>\n",
       "      <td>7.416667</td>\n",
       "    </tr>\n",
       "    <tr>\n",
       "      <th>2</th>\n",
       "      <td>1</td>\n",
       "      <td>0.6</td>\n",
       "      <td>1</td>\n",
       "      <td>6.0</td>\n",
       "      <td>6.183333</td>\n",
       "    </tr>\n",
       "    <tr>\n",
       "      <th>3</th>\n",
       "      <td>1</td>\n",
       "      <td>0.8</td>\n",
       "      <td>1</td>\n",
       "      <td>5.5</td>\n",
       "      <td>4.850000</td>\n",
       "    </tr>\n",
       "    <tr>\n",
       "      <th>4</th>\n",
       "      <td>1</td>\n",
       "      <td>0.0</td>\n",
       "      <td>2</td>\n",
       "      <td>3.5</td>\n",
       "      <td>2.300000</td>\n",
       "    </tr>\n",
       "  </tbody>\n",
       "</table>\n",
       "</div>"
      ],
      "text/plain": [
       "   passenger_count  trip_distance  payment_type  fare_amount  duration\n",
       "0                1            1.2             1          6.0  4.800000\n",
       "1                1            1.2             1          7.0  7.416667\n",
       "2                1            0.6             1          6.0  6.183333\n",
       "3                1            0.8             1          5.5  4.850000\n",
       "4                1            0.0             2          3.5  2.300000"
      ]
     },
     "execution_count": 22,
     "metadata": {},
     "output_type": "execute_result"
    }
   ],
   "source": [
    "nyc_taxitrips_data.head()"
   ]
  },
  {
   "cell_type": "code",
   "execution_count": 23,
   "id": "58733a4e",
   "metadata": {},
   "outputs": [
    {
     "data": {
      "text/plain": [
       "passenger_count\n",
       "1    0.566941\n",
       "2    0.191656\n",
       "3    0.069630\n",
       "5    0.066722\n",
       "6    0.042873\n",
       "4    0.038591\n",
       "0    0.023566\n",
       "7    0.000010\n",
       "8    0.000006\n",
       "9    0.000005\n",
       "Name: proportion, dtype: float64"
      ]
     },
     "execution_count": 23,
     "metadata": {},
     "output_type": "execute_result"
    }
   ],
   "source": [
    "nyc_taxitrips_data['passenger_count'].value_counts(normalize=True)"
   ]
  },
  {
   "cell_type": "code",
   "execution_count": 24,
   "id": "9948df9b",
   "metadata": {},
   "outputs": [
    {
     "data": {
      "text/plain": [
       "payment_type\n",
       "1    3219673\n",
       "2    1477013\n",
       "3      45916\n",
       "4      29908\n",
       "5          1\n",
       "Name: count, dtype: int64"
      ]
     },
     "execution_count": 24,
     "metadata": {},
     "output_type": "execute_result"
    }
   ],
   "source": [
    "# Payment type distribution\n",
    "nyc_taxitrips_data['payment_type'].value_counts()"
   ]
  },
  {
   "cell_type": "markdown",
   "id": "809d57ec",
   "metadata": {},
   "source": [
    "We will focus on payment types 'card' and 'online' denoted by 1 and 2 in the dataset, and exclude other types by filtering.\n",
    "\n",
    "In addition the proportion of passenger count also clearly states there are no significant trips with more than 5 passengers, and also having 0 passengers isn't ideal. Therefore we filter to include only values from 1 to 5, excluding rest of them"
   ]
  },
  {
   "cell_type": "code",
   "execution_count": 25,
   "id": "2bf89dbb",
   "metadata": {},
   "outputs": [],
   "source": [
    "# Filtering payment type 1 and 2\n",
    "nyc_taxitrips_data = nyc_taxitrips_data[nyc_taxitrips_data['payment_type']<3]\n",
    "\n",
    "# Filtering passenger count from 1 to 5\n",
    "nyc_taxitrips_data = nyc_taxitrips_data[(nyc_taxitrips_data['passenger_count']>0)&(nyc_taxitrips_data['passenger_count']<6)]"
   ]
  },
  {
   "cell_type": "code",
   "execution_count": 26,
   "id": "fb840804",
   "metadata": {},
   "outputs": [],
   "source": [
    "# Replacing payment type encoded value 1 and 2 to card and online\n",
    "nyc_taxitrips_data['payment_type'].replace([1,2],['Card','Online'],inplace=True)"
   ]
  },
  {
   "cell_type": "code",
   "execution_count": 27,
   "id": "46f9c98f",
   "metadata": {},
   "outputs": [
    {
     "data": {
      "text/html": [
       "<div>\n",
       "<style scoped>\n",
       "    .dataframe tbody tr th:only-of-type {\n",
       "        vertical-align: middle;\n",
       "    }\n",
       "\n",
       "    .dataframe tbody tr th {\n",
       "        vertical-align: top;\n",
       "    }\n",
       "\n",
       "    .dataframe thead th {\n",
       "        text-align: right;\n",
       "    }\n",
       "</style>\n",
       "<table border=\"1\" class=\"dataframe\">\n",
       "  <thead>\n",
       "    <tr style=\"text-align: right;\">\n",
       "      <th></th>\n",
       "      <th>passenger_count</th>\n",
       "      <th>trip_distance</th>\n",
       "      <th>fare_amount</th>\n",
       "      <th>duration</th>\n",
       "    </tr>\n",
       "  </thead>\n",
       "  <tbody>\n",
       "    <tr>\n",
       "      <th>count</th>\n",
       "      <td>4.384114e+06</td>\n",
       "      <td>4.384114e+06</td>\n",
       "      <td>4.384114e+06</td>\n",
       "      <td>4.384114e+06</td>\n",
       "    </tr>\n",
       "    <tr>\n",
       "      <th>mean</th>\n",
       "      <td>1.770477e+00</td>\n",
       "      <td>4.919532e+00</td>\n",
       "      <td>1.903468e+01</td>\n",
       "      <td>2.643348e+01</td>\n",
       "    </tr>\n",
       "    <tr>\n",
       "      <th>std</th>\n",
       "      <td>1.202354e+00</td>\n",
       "      <td>5.079359e+00</td>\n",
       "      <td>1.542316e+01</td>\n",
       "      <td>9.940648e+01</td>\n",
       "    </tr>\n",
       "    <tr>\n",
       "      <th>min</th>\n",
       "      <td>1.000000e+00</td>\n",
       "      <td>-2.218000e+01</td>\n",
       "      <td>-5.000000e+02</td>\n",
       "      <td>-9.990667e+03</td>\n",
       "    </tr>\n",
       "    <tr>\n",
       "      <th>25%</th>\n",
       "      <td>1.000000e+00</td>\n",
       "      <td>1.640000e+00</td>\n",
       "      <td>9.500000e+00</td>\n",
       "      <td>1.083333e+01</td>\n",
       "    </tr>\n",
       "    <tr>\n",
       "      <th>50%</th>\n",
       "      <td>1.000000e+00</td>\n",
       "      <td>3.050000e+00</td>\n",
       "      <td>1.450000e+01</td>\n",
       "      <td>1.708333e+01</td>\n",
       "    </tr>\n",
       "    <tr>\n",
       "      <th>75%</th>\n",
       "      <td>2.000000e+00</td>\n",
       "      <td>6.190000e+00</td>\n",
       "      <td>2.300000e+01</td>\n",
       "      <td>2.510000e+01</td>\n",
       "    </tr>\n",
       "    <tr>\n",
       "      <th>max</th>\n",
       "      <td>5.000000e+00</td>\n",
       "      <td>3.699400e+02</td>\n",
       "      <td>4.265000e+03</td>\n",
       "      <td>8.525117e+03</td>\n",
       "    </tr>\n",
       "  </tbody>\n",
       "</table>\n",
       "</div>"
      ],
      "text/plain": [
       "       passenger_count  trip_distance   fare_amount      duration\n",
       "count     4.384114e+06   4.384114e+06  4.384114e+06  4.384114e+06\n",
       "mean      1.770477e+00   4.919532e+00  1.903468e+01  2.643348e+01\n",
       "std       1.202354e+00   5.079359e+00  1.542316e+01  9.940648e+01\n",
       "min       1.000000e+00  -2.218000e+01 -5.000000e+02 -9.990667e+03\n",
       "25%       1.000000e+00   1.640000e+00  9.500000e+00  1.083333e+01\n",
       "50%       1.000000e+00   3.050000e+00  1.450000e+01  1.708333e+01\n",
       "75%       2.000000e+00   6.190000e+00  2.300000e+01  2.510000e+01\n",
       "max       5.000000e+00   3.699400e+02  4.265000e+03  8.525117e+03"
      ]
     },
     "execution_count": 27,
     "metadata": {},
     "output_type": "execute_result"
    }
   ],
   "source": [
    "nyc_taxitrips_data.describe()"
   ]
  },
  {
   "cell_type": "markdown",
   "id": "04f0c924",
   "metadata": {},
   "source": [
    "Upon reviewing the statistics, it is clearly evident that the minimum values of trip distance, fare amount, duration are negative, which are inappropriate to perform further analysis. We need to eliminate those negative values from the dataset.\n",
    "\n",
    "And also noticing 50 % and max values there seem to be possible outliers in the dataset, these outliers need to ensure integrity of analysis."
   ]
  },
  {
   "cell_type": "code",
   "execution_count": 28,
   "id": "f4fc77fa",
   "metadata": {},
   "outputs": [],
   "source": [
    "# Removing the negative values by filtering records\n",
    "nyc_taxitrips_data = nyc_taxitrips_data[nyc_taxitrips_data['trip_distance']>0]\n",
    "nyc_taxitrips_data = nyc_taxitrips_data[nyc_taxitrips_data['fare_amount']>0]\n",
    "nyc_taxitrips_data = nyc_taxitrips_data[nyc_taxitrips_data['duration']>0]"
   ]
  },
  {
   "cell_type": "code",
   "execution_count": 29,
   "id": "44ba3871",
   "metadata": {},
   "outputs": [
    {
     "data": {
      "image/png": "[encoded data removed]",
      "text/plain": [
       "<Figure size 640x480 with 1 Axes>"
      ]
     },
     "metadata": {},
     "output_type": "display_data"
    }
   ],
   "source": [
    "# Outlier visualize\n",
    "sns.boxplot(data=nyc_taxitrips_data, y='fare_amount', x='payment_type')\n",
    "plt.show()"
   ]
  },
  {
   "cell_type": "code",
   "execution_count": 30,
   "id": "efd73217",
   "metadata": {},
   "outputs": [],
   "source": [
    "# Removing outliers using IQR(interquartile range) for the numeric variables\n",
    "for col in ['trip_distance','fare_amount','duration']:\n",
    "    Q1 = nyc_taxitrips_data[col].quantile(0.25)\n",
    "    Q3 = nyc_taxitrips_data[col].quantile(0.75)\n",
    "    IQR = Q3 - Q1\n",
    "\n",
    "    # Define lower and upper bounds for outliers\n",
    "    lower_bound = Q1 - 1.5* IQR\n",
    "    upper_bound = Q3 + 1.5* IQR\n",
    "\n",
    "    # filter the outliers outside the IQR range\n",
    "    nyc_taxitrips_data = nyc_taxitrips_data[(nyc_taxitrips_data[col] >= lower_bound) & (nyc_taxitrips_data[col] <= upper_bound)]"
   ]
  },
  {
   "cell_type": "markdown",
   "id": "c28ab9f3",
   "metadata": {},
   "source": [
    "We are intresting in exploring the relationship between payment type and passenger behavior concerning trip distance and fare amount.\n",
    "Distribution of payment types concerning fare amounts and trip distance.\n",
    "\n",
    "To visualize this we'll plot histograms of distribution of passenger counts paying Card and online"
   ]
  },
  {
   "cell_type": "code",
   "execution_count": 31,
   "id": "4170aecf",
   "metadata": {},
   "outputs": [
    {
     "data": {
      "image/png": "[encoded data removed]",
      "text/plain": [
       "<Figure size 1200x500 with 2 Axes>"
      ]
     },
     "metadata": {},
     "output_type": "display_data"
    },
    {
     "data": {
      "text/plain": [
       "<Figure size 640x480 with 0 Axes>"
      ]
     },
     "metadata": {},
     "output_type": "display_data"
    }
   ],
   "source": [
    "plt.figure(figsize=(12,5))\n",
    "plt.subplot(1,2,1)\n",
    "plt.title(\"Distribution of Fare Amount\")\n",
    "plt.hist(nyc_taxitrips_data[nyc_taxitrips_data['payment_type'] == 'Card']['fare_amount'], histtype='barstacked',bins=20, edgecolor='k', color= '#283593',label='Card')\n",
    "plt.hist(nyc_taxitrips_data[nyc_taxitrips_data['payment_type'] == 'Online']['fare_amount'], histtype='barstacked', bins=20, edgecolor= 'k', color='#C5CAE9', label='Online' )\n",
    "plt.legend()\n",
    "\n",
    "\n",
    "plt.subplot(1,2,2)\n",
    "plt.title(\"Distribution of Trip Distance\")\n",
    "plt.hist(nyc_taxitrips_data[nyc_taxitrips_data['payment_type'] == 'Card']['trip_distance'], histtype='barstacked',bins=20, edgecolor='k', color= '#283593',label='Card')\n",
    "plt.hist(nyc_taxitrips_data[nyc_taxitrips_data['payment_type'] == 'Online']['trip_distance'], histtype='barstacked', bins=20, edgecolor= 'k', color='#C5CAE9', label='Online' )\n",
    "plt.legend()\n",
    "plt.show()\n",
    "plt.savefig('stacked_dist_taxi.png')  # Saves to current working directory"
   ]
  },
  {
   "cell_type": "code",
   "execution_count": 32,
   "id": "a5e163bb",
   "metadata": {},
   "outputs": [
    {
     "data": {
      "text/html": [
       "<div>\n",
       "<style scoped>\n",
       "    .dataframe tbody tr th:only-of-type {\n",
       "        vertical-align: middle;\n",
       "    }\n",
       "\n",
       "    .dataframe tbody tr th {\n",
       "        vertical-align: top;\n",
       "    }\n",
       "\n",
       "    .dataframe thead tr th {\n",
       "        text-align: left;\n",
       "    }\n",
       "\n",
       "    .dataframe thead tr:last-of-type th {\n",
       "        text-align: right;\n",
       "    }\n",
       "</style>\n",
       "<table border=\"1\" class=\"dataframe\">\n",
       "  <thead>\n",
       "    <tr>\n",
       "      <th></th>\n",
       "      <th colspan=\"2\" halign=\"left\">fare_amount</th>\n",
       "      <th colspan=\"2\" halign=\"left\">trip_distance</th>\n",
       "    </tr>\n",
       "    <tr>\n",
       "      <th></th>\n",
       "      <th>mean</th>\n",
       "      <th>std</th>\n",
       "      <th>mean</th>\n",
       "      <th>std</th>\n",
       "    </tr>\n",
       "    <tr>\n",
       "      <th>payment_type</th>\n",
       "      <th></th>\n",
       "      <th></th>\n",
       "      <th></th>\n",
       "      <th></th>\n",
       "    </tr>\n",
       "  </thead>\n",
       "  <tbody>\n",
       "    <tr>\n",
       "      <th>Card</th>\n",
       "      <td>14.998109</td>\n",
       "      <td>7.189713</td>\n",
       "      <td>3.635646</td>\n",
       "      <td>2.604653</td>\n",
       "    </tr>\n",
       "    <tr>\n",
       "      <th>Online</th>\n",
       "      <td>13.288722</td>\n",
       "      <td>6.904799</td>\n",
       "      <td>3.130914</td>\n",
       "      <td>2.513154</td>\n",
       "    </tr>\n",
       "  </tbody>\n",
       "</table>\n",
       "</div>"
      ],
      "text/plain": [
       "             fare_amount           trip_distance          \n",
       "                    mean       std          mean       std\n",
       "payment_type                                              \n",
       "Card           14.998109  7.189713      3.635646  2.604653\n",
       "Online         13.288722  6.904799      3.130914  2.513154"
      ]
     },
     "execution_count": 32,
     "metadata": {},
     "output_type": "execute_result"
    }
   ],
   "source": [
    "# Calculating the mean and standard deviation group by on payment type\n",
    "nyc_taxitrips_data.groupby('payment_type').agg({'fare_amount': ['mean','std',], 'trip_distance': ['mean','std'],})"
   ]
  },
  {
   "cell_type": "markdown",
   "id": "680aaf43",
   "metadata": {},
   "source": [
    "In order to understand the customer's preference regarding their choice of payment methods, we will need to access the distribution of payment types.\n",
    "\n",
    "To visualise the distribution we have opted to utilize a pie chart. The graphical representation of will offer a clear, concise and intuitive understanding of the distribution between two payment methods choosen payment types."
   ]
  },
  {
   "cell_type": "code",
   "execution_count": 39,
   "id": "8ac303d4",
   "metadata": {},
   "outputs": [
    {
     "data": {
      "image/png": "[encoded data removed]",
      "text/plain": [
       "<Figure size 640x480 with 1 Axes>"
      ]
     },
     "metadata": {},
     "output_type": "display_data"
    },
    {
     "data": {
      "text/plain": [
       "<Figure size 640x480 with 0 Axes>"
      ]
     },
     "metadata": {},
     "output_type": "display_data"
    }
   ],
   "source": [
    "plt.title('Distribution of Payment Type')\n",
    "plt.pie(nyc_taxitrips_data['payment_type'].value_counts(normalize=True), labels=nyc_taxitrips_data['payment_type'].value_counts().index,\n",
    "        startangle= 90, shadow= True, autopct= '%1.1f%%', colors=['#283593','#C5CAE9'])\n",
    "plt.show()\n",
    "plt.savefig('pie_dist_taxi.png')"
   ]
  },
  {
   "cell_type": "markdown",
   "id": "75296a31",
   "metadata": {},
   "source": [
    "Now we aim to conduct analysis between payment type and passenger count, the target is to see if there is any underlying connection in terms of number of passengers in the trip and the payment type they choose.\n",
    "\n",
    "To achieve this, we use visualization chart called stacked bar chart."
   ]
  },
  {
   "cell_type": "code",
   "execution_count": 38,
   "id": "7d81d0f5",
   "metadata": {},
   "outputs": [
    {
     "data": {
      "image/png": "[encoded data removed]",
      "text/plain": [
       "<Figure size 2000x600 with 1 Axes>"
      ]
     },
     "metadata": {},
     "output_type": "display_data"
    }
   ],
   "source": [
    "# Calculating total passenger count distribution based on different payment type\n",
    "passenger_count = nyc_taxitrips_data.groupby(['payment_type','passenger_count'])[['passenger_count']].count()\n",
    "\n",
    "# Renaming the passenger_count to count to reset the index\n",
    "passenger_count.rename(columns= {'passenger_count': 'count'}, inplace=True)\n",
    "passenger_count.reset_index(inplace=True)\n",
    "\n",
    "# Calculating the percentage of each passenger count\n",
    "passenger_count['perc'] = (passenger_count['count']/passenger_count['count'].sum())*100\n",
    "\n",
    "# Creating a new empty dataframe to store the distribution of each payment type\n",
    "df = pd.DataFrame(columns= ['payment_type', 1,2,3,4,5])\n",
    "df['payment_type'] = ['Card','Online']\n",
    "df.iloc[0,1:] = passenger_count.iloc[:5,-1]\n",
    "df.iloc[1,1:] = passenger_count.iloc[5:,-1]\n",
    "\n",
    "fig, ax = plt.subplots(figsize=(20,6))\n",
    "df.plot(x='payment_type', kind='barh', stacked=True, title= ' ', ax=ax, color = ['#283593', '#5C6BC0','#90CAF9', '#BBDEFB', '#E3F2FD'])\n",
    "\n",
    "# Add percentage text on the bars\n",
    "for p in ax.patches:\n",
    "    width = p.get_width()\n",
    "    height = p.get_height()\n",
    "    x, y = p.get_xy()\n",
    "    ax.text(x + width / 2,\n",
    "            y + height / 2,\n",
    "            '{:.0f}%'.format(width),\n",
    "            horizontalalignment='center',\n",
    "            verticalalignment='center')\n",
    "\n",
    "plt.savefig('stacked_bar_dist_taxi.png')"
   ]
  },
  {
   "cell_type": "markdown",
   "id": "9de42674",
   "metadata": {},
   "source": [
    "### Hypothesis Testing"
   ]
  },
  {
   "cell_type": "markdown",
   "id": "25ab12cf",
   "metadata": {},
   "source": [
    "In order to select a statistical test for our scenario, initial step is to validate if the fare amounts distribution follows normal distribution.\n",
    "While the histogram depicted above suggests otherwise, we will confirm using QQ plot\n",
    "\n",
    "Quantile-Quantile(QQ) plots can be used to access whether the fare amount distributions for each payment type are approximately normally distributed.\n",
    "If the data points closely align with the daigonal line in the plot, it suggest it follows a normal distribution"
   ]
  },
  {
   "cell_type": "code",
   "execution_count": 35,
   "id": "94d31cd6",
   "metadata": {},
   "outputs": [
    {
     "data": {
      "image/png": "[encoded data removed]",
      "text/plain": [
       "<Figure size 640x480 with 1 Axes>"
      ]
     },
     "metadata": {},
     "output_type": "display_data"
    }
   ],
   "source": [
    "# Create Q-Q plot with 45 degree line added to plot\n",
    "fig = sm.qqplot(nyc_taxitrips_data['fare_amount'], line='45')\n",
    "plt.show()"
   ]
  },
  {
   "cell_type": "markdown",
   "id": "db291f41",
   "metadata": {},
   "source": [
    "The data points clearly do not follow the 45 degree line, which means they do not follow distribution. So we Z Test will not be good for this distribution, so that's why we will use T-Test.\n",
    "\n",
    "Given that T test can be applicable to small and large samples and does not require the population standard deviation, it is more universally applicable approach for hypothesis testing in many practical scenarios, including analysis of taxi trip data.\n",
    "In the analysis of NYC Taxi Trip data, while we're likely dealing large datasets with unknown population standard deviation, the T-test offers a more flexible methode for comparing means between two different groups."
   ]
  },
  {
   "cell_type": "markdown",
   "id": "578937e5",
   "metadata": {},
   "source": [
    "Null Hypothesis:: There is no difference in average fare between customers who pay using Card and customers who pay Online.\n",
    "\n",
    "Alternate Hypothesis:: There is a difference in average fare between customers who pay using Card and customers who pay Online."
   ]
  },
  {
   "cell_type": "code",
   "execution_count": 36,
   "id": "4a38825b",
   "metadata": {},
   "outputs": [
    {
     "name": "stdout",
     "output_type": "stream",
     "text": [
      "T-statistics: 222.36978034159912, P-value: 0.0\n",
      "\n",
      "Reject the null hypothesis\n"
     ]
    }
   ],
   "source": [
    "# Card sample\n",
    "card_method = nyc_taxitrips_data[nyc_taxitrips_data['payment_type'] == 'Card']['fare_amount']\n",
    "\n",
    "# Online sample\n",
    "online = nyc_taxitrips_data[nyc_taxitrips_data['payment_type'] == 'Online']['fare_amount']\n",
    "\n",
    "# Performing T-test on both the samples\n",
    "t_stat, p_value = stats.ttest_ind(a=card_method, b=online, equal_var=False)\n",
    "print(f\"T-statistics: {t_stat}, P-value: {p_value}\")\n",
    "\n",
    "# Comparing p-value with the significance of 5% or 0.05\n",
    "if p_value < 0.05:\n",
    "    print(\"\\nReject the null hypothesis\")\n",
    "else:\n",
    "    print(\"\\nAccept the null hypothesis\")"
   ]
  },
  {
   "cell_type": "markdown",
   "id": "b78a3761",
   "metadata": {},
   "source": [
    "Since the p-value is significantly smaller than 5 percent, we reject the null hypothesis.\n",
    "\n",
    "We can conclude that there is statistically significant difference in average fare between customers who pay using Card and customers who pay Online.\n",
    "\n",
    "The key business suggestion to stakeholders is 'To encourage customers to pay using Card method that help generate more revenue for the cab drivers."
   ]
  }
 ],
 "metadata": {
  "kernelspec": {
   "display_name": "ML",
   "language": "python",
   "name": "python3"
  },
  "language_info": {
   "codemirror_mode": {
    "name": "ipython",
    "version": 3
   },
   "file_extension": ".py",
   "mimetype": "text/x-python",
   "name": "python",
   "nbconvert_exporter": "python",
   "pygments_lexer": "ipython3",
   "version": "3.9.21"
  }
 },
 "nbformat": 4,
 "nbformat_minor": 5
}
